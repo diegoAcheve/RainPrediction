{
 "cells": [
  {
   "cell_type": "code",
   "execution_count": 4,
   "id": "3c8f71dc",
   "metadata": {},
   "outputs": [],
   "source": [
    "import pandas as pd\n",
    "import numpy as np\n",
    "import matplotlib.pyplot as plt\n",
    "from sklearn.preprocessing import StandardScaler\n",
    "from sklearn.metrics import mean_squared_error, mean_absolute_error\n",
    "from tensorflow.keras.models import Sequential\n",
    "from tensorflow.keras.layers import LSTM, Dense, Dropout\n",
    "from tensorflow.keras.optimizers import Adam\n",
    "from tensorflow.keras.callbacks import EarlyStopping\n",
    "from tensorflow.keras.saving import load_model\n",
    "import warnings\n",
    "warnings.filterwarnings('ignore')"
   ]
  },
  {
   "cell_type": "code",
   "execution_count": 48,
   "id": "8cda7f07",
   "metadata": {},
   "outputs": [
    {
     "name": "stdout",
     "output_type": "stream",
     "text": [
      "Dataset types: <bound method NDFrame.describe of                            fecha   temp_max   temp_min  presion_max  \\\n",
      "0      1985-12-12 06:00:00+00:00  21.357500   6.807500    788.17240   \n",
      "1      1985-12-13 06:00:00+00:00  21.807500   9.307501    788.45910   \n",
      "2      1985-12-14 06:00:00+00:00  18.707500   8.307501    791.04956   \n",
      "3      1985-12-15 06:00:00+00:00  19.507500   6.957500    790.46080   \n",
      "4      1985-12-16 06:00:00+00:00  17.957500   8.057501    789.69550   \n",
      "...                          ...        ...        ...          ...   \n",
      "14547  2025-10-10 06:00:00+00:00  21.337000  13.137000    790.36800   \n",
      "14548  2025-10-11 06:00:00+00:00  21.536999  12.537001    789.20233   \n",
      "14549  2025-10-12 06:00:00+00:00  23.237000  13.687000    787.04200   \n",
      "14550  2025-10-13 06:00:00+00:00  23.737000  10.437000    787.70966   \n",
      "14551  2025-10-14 06:00:00+00:00  22.637000  10.937000    789.29800   \n",
      "\n",
      "       presion_min  rocio_max  rocio_min  viento_promedio  radiacion  \\\n",
      "0        780.33673   8.407499   4.157500         9.655003      18.96   \n",
      "1        781.59450   9.057501   4.557500         6.839441      18.15   \n",
      "2        785.57090   8.057501   6.107500         9.358234      13.91   \n",
      "3        783.82390   8.807501   4.707500         6.660603      16.48   \n",
      "4        782.38930   9.107500   5.907500         4.924817      14.94   \n",
      "...            ...        ...        ...              ...        ...   \n",
      "14547    786.13020  14.437000  12.637000         4.744597      18.61   \n",
      "14548    785.16290  13.337001  10.887000         4.816477      20.22   \n",
      "14549    783.51996  13.487000   6.287000         4.927824      20.82   \n",
      "14550    781.96300  12.437000   9.337001         5.577450      23.42   \n",
      "14551    785.05730  11.937000   6.237000         7.688192      24.51   \n",
      "\n",
      "       precipitacion_total  \n",
      "0                 0.600000  \n",
      "1                 0.000000  \n",
      "2                 0.000000  \n",
      "3                 0.000000  \n",
      "4                 0.000000  \n",
      "...                    ...  \n",
      "14547            21.900002  \n",
      "14548             9.600000  \n",
      "14549             0.200000  \n",
      "14550             0.700000  \n",
      "14551             0.000000  \n",
      "\n",
      "[14552 rows x 10 columns]>\n",
      "\n",
      "Dataset shape: (14552, 10)\n",
      "\n",
      "First few rows:\n",
      "                       fecha  temp_max  temp_min  presion_max  presion_min  \\\n",
      "0  1985-12-12 06:00:00+00:00   21.3575  6.807500    788.17240    780.33673   \n",
      "1  1985-12-13 06:00:00+00:00   21.8075  9.307501    788.45910    781.59450   \n",
      "2  1985-12-14 06:00:00+00:00   18.7075  8.307501    791.04956    785.57090   \n",
      "3  1985-12-15 06:00:00+00:00   19.5075  6.957500    790.46080    783.82390   \n",
      "4  1985-12-16 06:00:00+00:00   17.9575  8.057501    789.69550    782.38930   \n",
      "\n",
      "   rocio_max  rocio_min  viento_promedio  radiacion  precipitacion_total  \n",
      "0   8.407499     4.1575         9.655003      18.96                  0.6  \n",
      "1   9.057501     4.5575         6.839441      18.15                  0.0  \n",
      "2   8.057501     6.1075         9.358234      13.91                  0.0  \n",
      "3   8.807501     4.7075         6.660603      16.48                  0.0  \n",
      "4   9.107500     5.9075         4.924817      14.94                  0.0  \n",
      "\n",
      "Missing values:\n",
      "temp_max               0\n",
      "temp_min               0\n",
      "presion_max            0\n",
      "presion_min            0\n",
      "rocio_max              0\n",
      "rocio_min              0\n",
      "viento_promedio        0\n",
      "radiacion              0\n",
      "precipitacion_total    0\n",
      "dtype: int64\n"
     ]
    }
   ],
   "source": [
    "# Load your dataset\n",
    "df = pd.read_csv('dic1985-oct2025.csv')\n",
    "\n",
    "# 1. Data Preprocessing\n",
    "print(\"Dataset types:\", df.describe)\n",
    "print(\"\\nDataset shape:\", df.shape)\n",
    "print(\"\\nFirst few rows:\")\n",
    "print(df.head())\n",
    "\n",
    "# Convert date to datetime and set as index\n",
    "df['fecha'] = pd.to_datetime(df['fecha'])\n",
    "df = df.set_index('fecha')\n",
    "\n",
    "# Check for missing values\n",
    "print(\"\\nMissing values:\")\n",
    "print(df.isnull().sum())\n"
   ]
  },
  {
   "cell_type": "code",
   "execution_count": 50,
   "id": "4e53efc5",
   "metadata": {},
   "outputs": [
    {
     "data": {
      "text/plain": [
       "(14552, 9)"
      ]
     },
     "execution_count": 50,
     "metadata": {},
     "output_type": "execute_result"
    }
   ],
   "source": [
    "df.shape"
   ]
  },
  {
   "cell_type": "code",
   "execution_count": 51,
   "id": "2b8f3d57",
   "metadata": {},
   "outputs": [],
   "source": [
    "# Feature selection (excluding target)\n",
    "features = ['temp_max', 'temp_min', 'presion_max', 'presion_min', \n",
    "        'rocio_max', 'rocio_min', 'viento_promedio', 'radiacion']\n",
    "target = 'precipitacion_total'\n",
    "\n",
    "# 2. Data Scaling\n",
    "scaler_x = StandardScaler()\n",
    "scaler_y = StandardScaler()\n",
    "\n",
    "# Scale features\n",
    "X_scaled = scaler_x.fit_transform(df[features])\n",
    "# Scale target\n",
    "y_scaled = scaler_y.fit_transform(df[[target]])"
   ]
  },
  {
   "cell_type": "code",
   "execution_count": 52,
   "id": "f601a114",
   "metadata": {},
   "outputs": [
    {
     "name": "stdout",
     "output_type": "stream",
     "text": [
      "\n",
      "Sequences shape: X=(14522, 30, 8), y=(14522, 1)\n"
     ]
    }
   ],
   "source": [
    "# 3. Create sequences for LSTM\n",
    "def create_sequences(X, y, time_steps=30):\n",
    "    X_seq, y_seq = [], []\n",
    "    for i in range(time_steps, len(X)):\n",
    "        X_seq.append(X[i-time_steps:i])\n",
    "        y_seq.append(y[i])\n",
    "    return np.array(X_seq), np.array(y_seq)\n",
    "\n",
    "# Define time steps (using 30 days of historical data)\n",
    "TIME_STEPS = 30\n",
    "X_sequences, y_sequences = create_sequences(X_scaled, y_scaled, TIME_STEPS)\n",
    "\n",
    "print(f\"\\nSequences shape: X={X_sequences.shape}, y={y_sequences.shape}\")\n"
   ]
  },
  {
   "cell_type": "code",
   "execution_count": 53,
   "id": "2006e522",
   "metadata": {},
   "outputs": [
    {
     "name": "stdout",
     "output_type": "stream",
     "text": [
      "Training set: (11617, 30, 8), (11617, 1)\n",
      "Test set: (2905, 30, 8), (2905, 1)\n"
     ]
    }
   ],
   "source": [
    "# 4. Train-Test Split (chronological split)\n",
    "split_ratio = 0.8\n",
    "split_index = int(len(X_sequences) * split_ratio)\n",
    "\n",
    "X_train = X_sequences[:split_index]\n",
    "X_test = X_sequences[split_index:]\n",
    "y_train = y_sequences[:split_index]\n",
    "y_test = y_sequences[split_index:]\n",
    "\n",
    "print(f\"Training set: {X_train.shape}, {y_train.shape}\")\n",
    "print(f\"Test set: {X_test.shape}, {y_test.shape}\")"
   ]
  },
  {
   "cell_type": "code",
   "execution_count": 72,
   "id": "32740ab9",
   "metadata": {},
   "outputs": [
    {
     "data": {
      "text/html": [
       "<pre style=\"white-space:pre;overflow-x:auto;line-height:normal;font-family:Menlo,'DejaVu Sans Mono',consolas,'Courier New',monospace\"><span style=\"font-weight: bold\">Model: \"sequential_8\"</span>\n",
       "</pre>\n"
      ],
      "text/plain": [
       "\u001b[1mModel: \"sequential_8\"\u001b[0m\n"
      ]
     },
     "metadata": {},
     "output_type": "display_data"
    },
    {
     "data": {
      "text/html": [
       "<pre style=\"white-space:pre;overflow-x:auto;line-height:normal;font-family:Menlo,'DejaVu Sans Mono',consolas,'Courier New',monospace\">┏━━━━━━━━━━━━━━━━━━━━━━━━━━━━━━━━━┳━━━━━━━━━━━━━━━━━━━━━━━━┳━━━━━━━━━━━━━━━┓\n",
       "┃<span style=\"font-weight: bold\"> Layer (type)                    </span>┃<span style=\"font-weight: bold\"> Output Shape           </span>┃<span style=\"font-weight: bold\">       Param # </span>┃\n",
       "┡━━━━━━━━━━━━━━━━━━━━━━━━━━━━━━━━━╇━━━━━━━━━━━━━━━━━━━━━━━━╇━━━━━━━━━━━━━━━┩\n",
       "│ lstm_20 (<span style=\"color: #0087ff; text-decoration-color: #0087ff\">LSTM</span>)                  │ (<span style=\"color: #00d7ff; text-decoration-color: #00d7ff\">None</span>, <span style=\"color: #00af00; text-decoration-color: #00af00\">30</span>, <span style=\"color: #00af00; text-decoration-color: #00af00\">128</span>)        │        <span style=\"color: #00af00; text-decoration-color: #00af00\">70,144</span> │\n",
       "├─────────────────────────────────┼────────────────────────┼───────────────┤\n",
       "│ dropout_21 (<span style=\"color: #0087ff; text-decoration-color: #0087ff\">Dropout</span>)            │ (<span style=\"color: #00d7ff; text-decoration-color: #00d7ff\">None</span>, <span style=\"color: #00af00; text-decoration-color: #00af00\">30</span>, <span style=\"color: #00af00; text-decoration-color: #00af00\">128</span>)        │             <span style=\"color: #00af00; text-decoration-color: #00af00\">0</span> │\n",
       "├─────────────────────────────────┼────────────────────────┼───────────────┤\n",
       "│ lstm_21 (<span style=\"color: #0087ff; text-decoration-color: #0087ff\">LSTM</span>)                  │ (<span style=\"color: #00d7ff; text-decoration-color: #00d7ff\">None</span>, <span style=\"color: #00af00; text-decoration-color: #00af00\">30</span>, <span style=\"color: #00af00; text-decoration-color: #00af00\">128</span>)        │       <span style=\"color: #00af00; text-decoration-color: #00af00\">131,584</span> │\n",
       "├─────────────────────────────────┼────────────────────────┼───────────────┤\n",
       "│ dropout_22 (<span style=\"color: #0087ff; text-decoration-color: #0087ff\">Dropout</span>)            │ (<span style=\"color: #00d7ff; text-decoration-color: #00d7ff\">None</span>, <span style=\"color: #00af00; text-decoration-color: #00af00\">30</span>, <span style=\"color: #00af00; text-decoration-color: #00af00\">128</span>)        │             <span style=\"color: #00af00; text-decoration-color: #00af00\">0</span> │\n",
       "├─────────────────────────────────┼────────────────────────┼───────────────┤\n",
       "│ lstm_22 (<span style=\"color: #0087ff; text-decoration-color: #0087ff\">LSTM</span>)                  │ (<span style=\"color: #00d7ff; text-decoration-color: #00d7ff\">None</span>, <span style=\"color: #00af00; text-decoration-color: #00af00\">30</span>, <span style=\"color: #00af00; text-decoration-color: #00af00\">96</span>)         │        <span style=\"color: #00af00; text-decoration-color: #00af00\">86,400</span> │\n",
       "├─────────────────────────────────┼────────────────────────┼───────────────┤\n",
       "│ dropout_23 (<span style=\"color: #0087ff; text-decoration-color: #0087ff\">Dropout</span>)            │ (<span style=\"color: #00d7ff; text-decoration-color: #00d7ff\">None</span>, <span style=\"color: #00af00; text-decoration-color: #00af00\">30</span>, <span style=\"color: #00af00; text-decoration-color: #00af00\">96</span>)         │             <span style=\"color: #00af00; text-decoration-color: #00af00\">0</span> │\n",
       "├─────────────────────────────────┼────────────────────────┼───────────────┤\n",
       "│ lstm_23 (<span style=\"color: #0087ff; text-decoration-color: #0087ff\">LSTM</span>)                  │ (<span style=\"color: #00d7ff; text-decoration-color: #00d7ff\">None</span>, <span style=\"color: #00af00; text-decoration-color: #00af00\">30</span>, <span style=\"color: #00af00; text-decoration-color: #00af00\">96</span>)         │        <span style=\"color: #00af00; text-decoration-color: #00af00\">74,112</span> │\n",
       "├─────────────────────────────────┼────────────────────────┼───────────────┤\n",
       "│ dropout_24 (<span style=\"color: #0087ff; text-decoration-color: #0087ff\">Dropout</span>)            │ (<span style=\"color: #00d7ff; text-decoration-color: #00d7ff\">None</span>, <span style=\"color: #00af00; text-decoration-color: #00af00\">30</span>, <span style=\"color: #00af00; text-decoration-color: #00af00\">96</span>)         │             <span style=\"color: #00af00; text-decoration-color: #00af00\">0</span> │\n",
       "├─────────────────────────────────┼────────────────────────┼───────────────┤\n",
       "│ lstm_24 (<span style=\"color: #0087ff; text-decoration-color: #0087ff\">LSTM</span>)                  │ (<span style=\"color: #00d7ff; text-decoration-color: #00d7ff\">None</span>, <span style=\"color: #00af00; text-decoration-color: #00af00\">30</span>, <span style=\"color: #00af00; text-decoration-color: #00af00\">64</span>)         │        <span style=\"color: #00af00; text-decoration-color: #00af00\">41,216</span> │\n",
       "├─────────────────────────────────┼────────────────────────┼───────────────┤\n",
       "│ dropout_25 (<span style=\"color: #0087ff; text-decoration-color: #0087ff\">Dropout</span>)            │ (<span style=\"color: #00d7ff; text-decoration-color: #00d7ff\">None</span>, <span style=\"color: #00af00; text-decoration-color: #00af00\">30</span>, <span style=\"color: #00af00; text-decoration-color: #00af00\">64</span>)         │             <span style=\"color: #00af00; text-decoration-color: #00af00\">0</span> │\n",
       "├─────────────────────────────────┼────────────────────────┼───────────────┤\n",
       "│ lstm_25 (<span style=\"color: #0087ff; text-decoration-color: #0087ff\">LSTM</span>)                  │ (<span style=\"color: #00d7ff; text-decoration-color: #00d7ff\">None</span>, <span style=\"color: #00af00; text-decoration-color: #00af00\">64</span>)             │        <span style=\"color: #00af00; text-decoration-color: #00af00\">33,024</span> │\n",
       "├─────────────────────────────────┼────────────────────────┼───────────────┤\n",
       "│ dropout_26 (<span style=\"color: #0087ff; text-decoration-color: #0087ff\">Dropout</span>)            │ (<span style=\"color: #00d7ff; text-decoration-color: #00d7ff\">None</span>, <span style=\"color: #00af00; text-decoration-color: #00af00\">64</span>)             │             <span style=\"color: #00af00; text-decoration-color: #00af00\">0</span> │\n",
       "├─────────────────────────────────┼────────────────────────┼───────────────┤\n",
       "│ dense_12 (<span style=\"color: #0087ff; text-decoration-color: #0087ff\">Dense</span>)                │ (<span style=\"color: #00d7ff; text-decoration-color: #00d7ff\">None</span>, <span style=\"color: #00af00; text-decoration-color: #00af00\">32</span>)             │         <span style=\"color: #00af00; text-decoration-color: #00af00\">2,080</span> │\n",
       "├─────────────────────────────────┼────────────────────────┼───────────────┤\n",
       "│ dropout_27 (<span style=\"color: #0087ff; text-decoration-color: #0087ff\">Dropout</span>)            │ (<span style=\"color: #00d7ff; text-decoration-color: #00d7ff\">None</span>, <span style=\"color: #00af00; text-decoration-color: #00af00\">32</span>)             │             <span style=\"color: #00af00; text-decoration-color: #00af00\">0</span> │\n",
       "├─────────────────────────────────┼────────────────────────┼───────────────┤\n",
       "│ dense_13 (<span style=\"color: #0087ff; text-decoration-color: #0087ff\">Dense</span>)                │ (<span style=\"color: #00d7ff; text-decoration-color: #00d7ff\">None</span>, <span style=\"color: #00af00; text-decoration-color: #00af00\">1</span>)              │            <span style=\"color: #00af00; text-decoration-color: #00af00\">33</span> │\n",
       "└─────────────────────────────────┴────────────────────────┴───────────────┘\n",
       "</pre>\n"
      ],
      "text/plain": [
       "┏━━━━━━━━━━━━━━━━━━━━━━━━━━━━━━━━━┳━━━━━━━━━━━━━━━━━━━━━━━━┳━━━━━━━━━━━━━━━┓\n",
       "┃\u001b[1m \u001b[0m\u001b[1mLayer (type)                   \u001b[0m\u001b[1m \u001b[0m┃\u001b[1m \u001b[0m\u001b[1mOutput Shape          \u001b[0m\u001b[1m \u001b[0m┃\u001b[1m \u001b[0m\u001b[1m      Param #\u001b[0m\u001b[1m \u001b[0m┃\n",
       "┡━━━━━━━━━━━━━━━━━━━━━━━━━━━━━━━━━╇━━━━━━━━━━━━━━━━━━━━━━━━╇━━━━━━━━━━━━━━━┩\n",
       "│ lstm_20 (\u001b[38;5;33mLSTM\u001b[0m)                  │ (\u001b[38;5;45mNone\u001b[0m, \u001b[38;5;34m30\u001b[0m, \u001b[38;5;34m128\u001b[0m)        │        \u001b[38;5;34m70,144\u001b[0m │\n",
       "├─────────────────────────────────┼────────────────────────┼───────────────┤\n",
       "│ dropout_21 (\u001b[38;5;33mDropout\u001b[0m)            │ (\u001b[38;5;45mNone\u001b[0m, \u001b[38;5;34m30\u001b[0m, \u001b[38;5;34m128\u001b[0m)        │             \u001b[38;5;34m0\u001b[0m │\n",
       "├─────────────────────────────────┼────────────────────────┼───────────────┤\n",
       "│ lstm_21 (\u001b[38;5;33mLSTM\u001b[0m)                  │ (\u001b[38;5;45mNone\u001b[0m, \u001b[38;5;34m30\u001b[0m, \u001b[38;5;34m128\u001b[0m)        │       \u001b[38;5;34m131,584\u001b[0m │\n",
       "├─────────────────────────────────┼────────────────────────┼───────────────┤\n",
       "│ dropout_22 (\u001b[38;5;33mDropout\u001b[0m)            │ (\u001b[38;5;45mNone\u001b[0m, \u001b[38;5;34m30\u001b[0m, \u001b[38;5;34m128\u001b[0m)        │             \u001b[38;5;34m0\u001b[0m │\n",
       "├─────────────────────────────────┼────────────────────────┼───────────────┤\n",
       "│ lstm_22 (\u001b[38;5;33mLSTM\u001b[0m)                  │ (\u001b[38;5;45mNone\u001b[0m, \u001b[38;5;34m30\u001b[0m, \u001b[38;5;34m96\u001b[0m)         │        \u001b[38;5;34m86,400\u001b[0m │\n",
       "├─────────────────────────────────┼────────────────────────┼───────────────┤\n",
       "│ dropout_23 (\u001b[38;5;33mDropout\u001b[0m)            │ (\u001b[38;5;45mNone\u001b[0m, \u001b[38;5;34m30\u001b[0m, \u001b[38;5;34m96\u001b[0m)         │             \u001b[38;5;34m0\u001b[0m │\n",
       "├─────────────────────────────────┼────────────────────────┼───────────────┤\n",
       "│ lstm_23 (\u001b[38;5;33mLSTM\u001b[0m)                  │ (\u001b[38;5;45mNone\u001b[0m, \u001b[38;5;34m30\u001b[0m, \u001b[38;5;34m96\u001b[0m)         │        \u001b[38;5;34m74,112\u001b[0m │\n",
       "├─────────────────────────────────┼────────────────────────┼───────────────┤\n",
       "│ dropout_24 (\u001b[38;5;33mDropout\u001b[0m)            │ (\u001b[38;5;45mNone\u001b[0m, \u001b[38;5;34m30\u001b[0m, \u001b[38;5;34m96\u001b[0m)         │             \u001b[38;5;34m0\u001b[0m │\n",
       "├─────────────────────────────────┼────────────────────────┼───────────────┤\n",
       "│ lstm_24 (\u001b[38;5;33mLSTM\u001b[0m)                  │ (\u001b[38;5;45mNone\u001b[0m, \u001b[38;5;34m30\u001b[0m, \u001b[38;5;34m64\u001b[0m)         │        \u001b[38;5;34m41,216\u001b[0m │\n",
       "├─────────────────────────────────┼────────────────────────┼───────────────┤\n",
       "│ dropout_25 (\u001b[38;5;33mDropout\u001b[0m)            │ (\u001b[38;5;45mNone\u001b[0m, \u001b[38;5;34m30\u001b[0m, \u001b[38;5;34m64\u001b[0m)         │             \u001b[38;5;34m0\u001b[0m │\n",
       "├─────────────────────────────────┼────────────────────────┼───────────────┤\n",
       "│ lstm_25 (\u001b[38;5;33mLSTM\u001b[0m)                  │ (\u001b[38;5;45mNone\u001b[0m, \u001b[38;5;34m64\u001b[0m)             │        \u001b[38;5;34m33,024\u001b[0m │\n",
       "├─────────────────────────────────┼────────────────────────┼───────────────┤\n",
       "│ dropout_26 (\u001b[38;5;33mDropout\u001b[0m)            │ (\u001b[38;5;45mNone\u001b[0m, \u001b[38;5;34m64\u001b[0m)             │             \u001b[38;5;34m0\u001b[0m │\n",
       "├─────────────────────────────────┼────────────────────────┼───────────────┤\n",
       "│ dense_12 (\u001b[38;5;33mDense\u001b[0m)                │ (\u001b[38;5;45mNone\u001b[0m, \u001b[38;5;34m32\u001b[0m)             │         \u001b[38;5;34m2,080\u001b[0m │\n",
       "├─────────────────────────────────┼────────────────────────┼───────────────┤\n",
       "│ dropout_27 (\u001b[38;5;33mDropout\u001b[0m)            │ (\u001b[38;5;45mNone\u001b[0m, \u001b[38;5;34m32\u001b[0m)             │             \u001b[38;5;34m0\u001b[0m │\n",
       "├─────────────────────────────────┼────────────────────────┼───────────────┤\n",
       "│ dense_13 (\u001b[38;5;33mDense\u001b[0m)                │ (\u001b[38;5;45mNone\u001b[0m, \u001b[38;5;34m1\u001b[0m)              │            \u001b[38;5;34m33\u001b[0m │\n",
       "└─────────────────────────────────┴────────────────────────┴───────────────┘\n"
      ]
     },
     "metadata": {},
     "output_type": "display_data"
    },
    {
     "data": {
      "text/html": [
       "<pre style=\"white-space:pre;overflow-x:auto;line-height:normal;font-family:Menlo,'DejaVu Sans Mono',consolas,'Courier New',monospace\"><span style=\"font-weight: bold\"> Total params: </span><span style=\"color: #00af00; text-decoration-color: #00af00\">438,593</span> (1.67 MB)\n",
       "</pre>\n"
      ],
      "text/plain": [
       "\u001b[1m Total params: \u001b[0m\u001b[38;5;34m438,593\u001b[0m (1.67 MB)\n"
      ]
     },
     "metadata": {},
     "output_type": "display_data"
    },
    {
     "data": {
      "text/html": [
       "<pre style=\"white-space:pre;overflow-x:auto;line-height:normal;font-family:Menlo,'DejaVu Sans Mono',consolas,'Courier New',monospace\"><span style=\"font-weight: bold\"> Trainable params: </span><span style=\"color: #00af00; text-decoration-color: #00af00\">438,593</span> (1.67 MB)\n",
       "</pre>\n"
      ],
      "text/plain": [
       "\u001b[1m Trainable params: \u001b[0m\u001b[38;5;34m438,593\u001b[0m (1.67 MB)\n"
      ]
     },
     "metadata": {},
     "output_type": "display_data"
    },
    {
     "data": {
      "text/html": [
       "<pre style=\"white-space:pre;overflow-x:auto;line-height:normal;font-family:Menlo,'DejaVu Sans Mono',consolas,'Courier New',monospace\"><span style=\"font-weight: bold\"> Non-trainable params: </span><span style=\"color: #00af00; text-decoration-color: #00af00\">0</span> (0.00 B)\n",
       "</pre>\n"
      ],
      "text/plain": [
       "\u001b[1m Non-trainable params: \u001b[0m\u001b[38;5;34m0\u001b[0m (0.00 B)\n"
      ]
     },
     "metadata": {},
     "output_type": "display_data"
    }
   ],
   "source": [
    "# 5. Build LSTM Model\n",
    "model  = Sequential()\n",
    "\n",
    "model.add(LSTM(128, return_sequences=True, input_shape=(TIME_STEPS, len(features))))\n",
    "\n",
    "model.add(Dropout(0.3))\n",
    "\n",
    "model.add(LSTM(128, return_sequences=True))\n",
    "\n",
    "model.add(Dropout(0.3))\n",
    "\n",
    "model.add(LSTM(96, return_sequences=True))\n",
    "\n",
    "model.add(Dropout(0.3))\n",
    "\n",
    "model.add(LSTM(96, return_sequences=True))\n",
    "\n",
    "model.add(Dropout(0.3))\n",
    "\n",
    "model.add(LSTM(64, return_sequences=True))\n",
    "\n",
    "model.add(Dropout(0.3))\n",
    "\n",
    "model.add(LSTM(64, return_sequences=False))\n",
    "\n",
    "model.add(Dropout(0.3))\n",
    "\n",
    "model.add(Dense(32, activation='relu'))\n",
    "\n",
    "model.add(Dropout(0.3))\n",
    "\n",
    "model.add(Dense(1))\n",
    "\n",
    "model.summary()\n",
    "\n",
    "model.compile(optimizer=Adam(learning_rate=0.00001), \n",
    "              loss='mse', \n",
    "              metrics=['mae'])"
   ]
  },
  {
   "cell_type": "code",
   "execution_count": null,
   "id": "353693d0",
   "metadata": {},
   "outputs": [],
   "source": [
    "\n",
    "model = Sequential([\n",
    "    LSTM(50, return_sequences=True, input_shape=(TIME_STEPS, len(features))),\n",
    "    Dropout(0.3),\n",
    "    LSTM(50, return_sequences=True),\n",
    "    Dropout(0.3),\n",
    "    LSTM(50),\n",
    "    Dropout(0.3),\n",
    "    Dense(25, activation='relu'),\n",
    "    Dense(1)\n",
    "])\n",
    "\n",
    "model.compile(optimizer=Adam(learning_rate=0.00001), \n",
    "              loss='mse', \n",
    "              metrics=['mae'])\n",
    "\n",
    "print(\"\\nModel Summary:\")\n",
    "model.summary()"
   ]
  },
  {
   "cell_type": "code",
   "execution_count": 78,
   "id": "db22eddf",
   "metadata": {},
   "outputs": [
    {
     "name": "stdout",
     "output_type": "stream",
     "text": [
      "Epoch 1/300\n",
      "\u001b[1m364/364\u001b[0m \u001b[32m━━━━━━━━━━━━━━━━━━━━\u001b[0m\u001b[37m\u001b[0m \u001b[1m4s\u001b[0m 10ms/step - loss: 0.6111 - mae: 0.3976 - val_loss: 1.7584 - val_mae: 0.6843\n",
      "Epoch 2/300\n",
      "\u001b[1m364/364\u001b[0m \u001b[32m━━━━━━━━━━━━━━━━━━━━\u001b[0m\u001b[37m\u001b[0m \u001b[1m4s\u001b[0m 10ms/step - loss: 0.6092 - mae: 0.3965 - val_loss: 1.7503 - val_mae: 0.6826\n",
      "Epoch 3/300\n",
      "\u001b[1m364/364\u001b[0m \u001b[32m━━━━━━━━━━━━━━━━━━━━\u001b[0m\u001b[37m\u001b[0m \u001b[1m4s\u001b[0m 10ms/step - loss: 0.6057 - mae: 0.3973 - val_loss: 1.7439 - val_mae: 0.6830\n",
      "Epoch 4/300\n",
      "\u001b[1m364/364\u001b[0m \u001b[32m━━━━━━━━━━━━━━━━━━━━\u001b[0m\u001b[37m\u001b[0m \u001b[1m4s\u001b[0m 10ms/step - loss: 0.6076 - mae: 0.3969 - val_loss: 1.7471 - val_mae: 0.6833\n",
      "Epoch 5/300\n",
      "\u001b[1m364/364\u001b[0m \u001b[32m━━━━━━━━━━━━━━━━━━━━\u001b[0m\u001b[37m\u001b[0m \u001b[1m4s\u001b[0m 10ms/step - loss: 0.6087 - mae: 0.3977 - val_loss: 1.7450 - val_mae: 0.6813\n",
      "Epoch 6/300\n",
      "\u001b[1m364/364\u001b[0m \u001b[32m━━━━━━━━━━━━━━━━━━━━\u001b[0m\u001b[37m\u001b[0m \u001b[1m4s\u001b[0m 10ms/step - loss: 0.6114 - mae: 0.3971 - val_loss: 1.7530 - val_mae: 0.6825\n",
      "Epoch 7/300\n",
      "\u001b[1m364/364\u001b[0m \u001b[32m━━━━━━━━━━━━━━━━━━━━\u001b[0m\u001b[37m\u001b[0m \u001b[1m4s\u001b[0m 10ms/step - loss: 0.6060 - mae: 0.3966 - val_loss: 1.7488 - val_mae: 0.6829\n",
      "Epoch 8/300\n",
      "\u001b[1m364/364\u001b[0m \u001b[32m━━━━━━━━━━━━━━━━━━━━\u001b[0m\u001b[37m\u001b[0m \u001b[1m4s\u001b[0m 10ms/step - loss: 0.6039 - mae: 0.3967 - val_loss: 1.7294 - val_mae: 0.6818\n",
      "Epoch 9/300\n",
      "\u001b[1m364/364\u001b[0m \u001b[32m━━━━━━━━━━━━━━━━━━━━\u001b[0m\u001b[37m\u001b[0m \u001b[1m4s\u001b[0m 10ms/step - loss: 0.6080 - mae: 0.3966 - val_loss: 1.7373 - val_mae: 0.6826\n",
      "Epoch 10/300\n",
      "\u001b[1m364/364\u001b[0m \u001b[32m━━━━━━━━━━━━━━━━━━━━\u001b[0m\u001b[37m\u001b[0m \u001b[1m4s\u001b[0m 10ms/step - loss: 0.6054 - mae: 0.3939 - val_loss: 1.7463 - val_mae: 0.6828\n",
      "Epoch 11/300\n",
      "\u001b[1m364/364\u001b[0m \u001b[32m━━━━━━━━━━━━━━━━━━━━\u001b[0m\u001b[37m\u001b[0m \u001b[1m4s\u001b[0m 10ms/step - loss: 0.6014 - mae: 0.3950 - val_loss: 1.7347 - val_mae: 0.6820\n",
      "Epoch 12/300\n",
      "\u001b[1m364/364\u001b[0m \u001b[32m━━━━━━━━━━━━━━━━━━━━\u001b[0m\u001b[37m\u001b[0m \u001b[1m4s\u001b[0m 10ms/step - loss: 0.6073 - mae: 0.3962 - val_loss: 1.7469 - val_mae: 0.6812\n",
      "Epoch 13/300\n",
      "\u001b[1m364/364\u001b[0m \u001b[32m━━━━━━━━━━━━━━━━━━━━\u001b[0m\u001b[37m\u001b[0m \u001b[1m4s\u001b[0m 10ms/step - loss: 0.6072 - mae: 0.3962 - val_loss: 1.7374 - val_mae: 0.6819\n",
      "Epoch 14/300\n",
      "\u001b[1m364/364\u001b[0m \u001b[32m━━━━━━━━━━━━━━━━━━━━\u001b[0m\u001b[37m\u001b[0m \u001b[1m4s\u001b[0m 10ms/step - loss: 0.6011 - mae: 0.3955 - val_loss: 1.7347 - val_mae: 0.6809\n",
      "Epoch 15/300\n",
      "\u001b[1m364/364\u001b[0m \u001b[32m━━━━━━━━━━━━━━━━━━━━\u001b[0m\u001b[37m\u001b[0m \u001b[1m4s\u001b[0m 10ms/step - loss: 0.6046 - mae: 0.3967 - val_loss: 1.7420 - val_mae: 0.6803\n",
      "Epoch 16/300\n",
      "\u001b[1m364/364\u001b[0m \u001b[32m━━━━━━━━━━━━━━━━━━━━\u001b[0m\u001b[37m\u001b[0m \u001b[1m4s\u001b[0m 10ms/step - loss: 0.6043 - mae: 0.3961 - val_loss: 1.7400 - val_mae: 0.6786\n",
      "Epoch 17/300\n",
      "\u001b[1m364/364\u001b[0m \u001b[32m━━━━━━━━━━━━━━━━━━━━\u001b[0m\u001b[37m\u001b[0m \u001b[1m4s\u001b[0m 10ms/step - loss: 0.6066 - mae: 0.3966 - val_loss: 1.7495 - val_mae: 0.6801\n",
      "Epoch 18/300\n",
      "\u001b[1m364/364\u001b[0m \u001b[32m━━━━━━━━━━━━━━━━━━━━\u001b[0m\u001b[37m\u001b[0m \u001b[1m4s\u001b[0m 10ms/step - loss: 0.6073 - mae: 0.3947 - val_loss: 1.7434 - val_mae: 0.6784\n",
      "Epoch 19/300\n",
      "\u001b[1m364/364\u001b[0m \u001b[32m━━━━━━━━━━━━━━━━━━━━\u001b[0m\u001b[37m\u001b[0m \u001b[1m4s\u001b[0m 10ms/step - loss: 0.6027 - mae: 0.3950 - val_loss: 1.7324 - val_mae: 0.6782\n",
      "Epoch 20/300\n",
      "\u001b[1m364/364\u001b[0m \u001b[32m━━━━━━━━━━━━━━━━━━━━\u001b[0m\u001b[37m\u001b[0m \u001b[1m4s\u001b[0m 10ms/step - loss: 0.6035 - mae: 0.3958 - val_loss: 1.7479 - val_mae: 0.6783\n",
      "Epoch 21/300\n",
      "\u001b[1m364/364\u001b[0m \u001b[32m━━━━━━━━━━━━━━━━━━━━\u001b[0m\u001b[37m\u001b[0m \u001b[1m4s\u001b[0m 10ms/step - loss: 0.6018 - mae: 0.3946 - val_loss: 1.7384 - val_mae: 0.6793\n",
      "Epoch 22/300\n",
      "\u001b[1m364/364\u001b[0m \u001b[32m━━━━━━━━━━━━━━━━━━━━\u001b[0m\u001b[37m\u001b[0m \u001b[1m4s\u001b[0m 10ms/step - loss: 0.6045 - mae: 0.3957 - val_loss: 1.7414 - val_mae: 0.6799\n",
      "Epoch 23/300\n",
      "\u001b[1m364/364\u001b[0m \u001b[32m━━━━━━━━━━━━━━━━━━━━\u001b[0m\u001b[37m\u001b[0m \u001b[1m4s\u001b[0m 10ms/step - loss: 0.6062 - mae: 0.3970 - val_loss: 1.7622 - val_mae: 0.6811\n",
      "Epoch 24/300\n",
      "\u001b[1m364/364\u001b[0m \u001b[32m━━━━━━━━━━━━━━━━━━━━\u001b[0m\u001b[37m\u001b[0m \u001b[1m4s\u001b[0m 10ms/step - loss: 0.6035 - mae: 0.3957 - val_loss: 1.7607 - val_mae: 0.6797\n",
      "Epoch 25/300\n",
      "\u001b[1m364/364\u001b[0m \u001b[32m━━━━━━━━━━━━━━━━━━━━\u001b[0m\u001b[37m\u001b[0m \u001b[1m4s\u001b[0m 10ms/step - loss: 0.6035 - mae: 0.3942 - val_loss: 1.7633 - val_mae: 0.6792\n",
      "Epoch 26/300\n",
      "\u001b[1m364/364\u001b[0m \u001b[32m━━━━━━━━━━━━━━━━━━━━\u001b[0m\u001b[37m\u001b[0m \u001b[1m4s\u001b[0m 10ms/step - loss: 0.6044 - mae: 0.3939 - val_loss: 1.7547 - val_mae: 0.6796\n",
      "Epoch 27/300\n",
      "\u001b[1m364/364\u001b[0m \u001b[32m━━━━━━━━━━━━━━━━━━━━\u001b[0m\u001b[37m\u001b[0m \u001b[1m4s\u001b[0m 10ms/step - loss: 0.6036 - mae: 0.3950 - val_loss: 1.7443 - val_mae: 0.6800\n",
      "Epoch 28/300\n",
      "\u001b[1m364/364\u001b[0m \u001b[32m━━━━━━━━━━━━━━━━━━━━\u001b[0m\u001b[37m\u001b[0m \u001b[1m4s\u001b[0m 10ms/step - loss: 0.6012 - mae: 0.3952 - val_loss: 1.7433 - val_mae: 0.6801\n",
      "Epoch 29/300\n",
      "\u001b[1m364/364\u001b[0m \u001b[32m━━━━━━━━━━━━━━━━━━━━\u001b[0m\u001b[37m\u001b[0m \u001b[1m4s\u001b[0m 10ms/step - loss: 0.6028 - mae: 0.3957 - val_loss: 1.7472 - val_mae: 0.6794\n",
      "Epoch 30/300\n",
      "\u001b[1m364/364\u001b[0m \u001b[32m━━━━━━━━━━━━━━━━━━━━\u001b[0m\u001b[37m\u001b[0m \u001b[1m4s\u001b[0m 10ms/step - loss: 0.6015 - mae: 0.3947 - val_loss: 1.7523 - val_mae: 0.6789\n",
      "Epoch 31/300\n",
      "\u001b[1m364/364\u001b[0m \u001b[32m━━━━━━━━━━━━━━━━━━━━\u001b[0m\u001b[37m\u001b[0m \u001b[1m4s\u001b[0m 10ms/step - loss: 0.6047 - mae: 0.3950 - val_loss: 1.7543 - val_mae: 0.6798\n",
      "Epoch 32/300\n",
      "\u001b[1m364/364\u001b[0m \u001b[32m━━━━━━━━━━━━━━━━━━━━\u001b[0m\u001b[37m\u001b[0m \u001b[1m4s\u001b[0m 10ms/step - loss: 0.5998 - mae: 0.3941 - val_loss: 1.7427 - val_mae: 0.6772\n",
      "Epoch 33/300\n",
      "\u001b[1m364/364\u001b[0m \u001b[32m━━━━━━━━━━━━━━━━━━━━\u001b[0m\u001b[37m\u001b[0m \u001b[1m4s\u001b[0m 10ms/step - loss: 0.6041 - mae: 0.3954 - val_loss: 1.7493 - val_mae: 0.6774\n",
      "Epoch 34/300\n",
      "\u001b[1m364/364\u001b[0m \u001b[32m━━━━━━━━━━━━━━━━━━━━\u001b[0m\u001b[37m\u001b[0m \u001b[1m4s\u001b[0m 10ms/step - loss: 0.6031 - mae: 0.3944 - val_loss: 1.7495 - val_mae: 0.6757\n",
      "Epoch 35/300\n",
      "\u001b[1m364/364\u001b[0m \u001b[32m━━━━━━━━━━━━━━━━━━━━\u001b[0m\u001b[37m\u001b[0m \u001b[1m4s\u001b[0m 10ms/step - loss: 0.6043 - mae: 0.3944 - val_loss: 1.7529 - val_mae: 0.6751\n",
      "Epoch 36/300\n",
      "\u001b[1m364/364\u001b[0m \u001b[32m━━━━━━━━━━━━━━━━━━━━\u001b[0m\u001b[37m\u001b[0m \u001b[1m4s\u001b[0m 10ms/step - loss: 0.6024 - mae: 0.3944 - val_loss: 1.7589 - val_mae: 0.6777\n",
      "Epoch 37/300\n",
      "\u001b[1m364/364\u001b[0m \u001b[32m━━━━━━━━━━━━━━━━━━━━\u001b[0m\u001b[37m\u001b[0m \u001b[1m4s\u001b[0m 10ms/step - loss: 0.6025 - mae: 0.3946 - val_loss: 1.7573 - val_mae: 0.6773\n",
      "Epoch 38/300\n",
      "\u001b[1m364/364\u001b[0m \u001b[32m━━━━━━━━━━━━━━━━━━━━\u001b[0m\u001b[37m\u001b[0m \u001b[1m4s\u001b[0m 10ms/step - loss: 0.6028 - mae: 0.3935 - val_loss: 1.7538 - val_mae: 0.6770\n",
      "Epoch 39/300\n",
      "\u001b[1m364/364\u001b[0m \u001b[32m━━━━━━━━━━━━━━━━━━━━\u001b[0m\u001b[37m\u001b[0m \u001b[1m4s\u001b[0m 10ms/step - loss: 0.6027 - mae: 0.3943 - val_loss: 1.7573 - val_mae: 0.6769\n",
      "Epoch 40/300\n",
      "\u001b[1m364/364\u001b[0m \u001b[32m━━━━━━━━━━━━━━━━━━━━\u001b[0m\u001b[37m\u001b[0m \u001b[1m4s\u001b[0m 10ms/step - loss: 0.6029 - mae: 0.3928 - val_loss: 1.7594 - val_mae: 0.6754\n",
      "Epoch 41/300\n",
      "\u001b[1m364/364\u001b[0m \u001b[32m━━━━━━━━━━━━━━━━━━━━\u001b[0m\u001b[37m\u001b[0m \u001b[1m4s\u001b[0m 10ms/step - loss: 0.6052 - mae: 0.3935 - val_loss: 1.7606 - val_mae: 0.6754\n",
      "Epoch 42/300\n",
      "\u001b[1m364/364\u001b[0m \u001b[32m━━━━━━━━━━━━━━━━━━━━\u001b[0m\u001b[37m\u001b[0m \u001b[1m4s\u001b[0m 10ms/step - loss: 0.5993 - mae: 0.3933 - val_loss: 1.7397 - val_mae: 0.6759\n",
      "Epoch 43/300\n",
      "\u001b[1m364/364\u001b[0m \u001b[32m━━━━━━━━━━━━━━━━━━━━\u001b[0m\u001b[37m\u001b[0m \u001b[1m4s\u001b[0m 10ms/step - loss: 0.6040 - mae: 0.3941 - val_loss: 1.7482 - val_mae: 0.6756\n",
      "Epoch 44/300\n",
      "\u001b[1m364/364\u001b[0m \u001b[32m━━━━━━━━━━━━━━━━━━━━\u001b[0m\u001b[37m\u001b[0m \u001b[1m4s\u001b[0m 10ms/step - loss: 0.5977 - mae: 0.3945 - val_loss: 1.7383 - val_mae: 0.6755\n",
      "Epoch 45/300\n",
      "\u001b[1m364/364\u001b[0m \u001b[32m━━━━━━━━━━━━━━━━━━━━\u001b[0m\u001b[37m\u001b[0m \u001b[1m4s\u001b[0m 10ms/step - loss: 0.6013 - mae: 0.3944 - val_loss: 1.7454 - val_mae: 0.6763\n",
      "Epoch 46/300\n",
      "\u001b[1m364/364\u001b[0m \u001b[32m━━━━━━━━━━━━━━━━━━━━\u001b[0m\u001b[37m\u001b[0m \u001b[1m4s\u001b[0m 10ms/step - loss: 0.6019 - mae: 0.3940 - val_loss: 1.7566 - val_mae: 0.6754\n",
      "Epoch 47/300\n",
      "\u001b[1m364/364\u001b[0m \u001b[32m━━━━━━━━━━━━━━━━━━━━\u001b[0m\u001b[37m\u001b[0m \u001b[1m4s\u001b[0m 10ms/step - loss: 0.6005 - mae: 0.3936 - val_loss: 1.7721 - val_mae: 0.6775\n",
      "Epoch 48/300\n",
      "\u001b[1m364/364\u001b[0m \u001b[32m━━━━━━━━━━━━━━━━━━━━\u001b[0m\u001b[37m\u001b[0m \u001b[1m4s\u001b[0m 10ms/step - loss: 0.5978 - mae: 0.3928 - val_loss: 1.7551 - val_mae: 0.6750\n",
      "Epoch 49/300\n",
      "\u001b[1m364/364\u001b[0m \u001b[32m━━━━━━━━━━━━━━━━━━━━\u001b[0m\u001b[37m\u001b[0m \u001b[1m4s\u001b[0m 10ms/step - loss: 0.6008 - mae: 0.3932 - val_loss: 1.7668 - val_mae: 0.6758\n",
      "Epoch 50/300\n",
      "\u001b[1m364/364\u001b[0m \u001b[32m━━━━━━━━━━━━━━━━━━━━\u001b[0m\u001b[37m\u001b[0m \u001b[1m4s\u001b[0m 10ms/step - loss: 0.5975 - mae: 0.3945 - val_loss: 1.7516 - val_mae: 0.6751\n",
      "Epoch 51/300\n",
      "\u001b[1m364/364\u001b[0m \u001b[32m━━━━━━━━━━━━━━━━━━━━\u001b[0m\u001b[37m\u001b[0m \u001b[1m4s\u001b[0m 10ms/step - loss: 0.6018 - mae: 0.3949 - val_loss: 1.7690 - val_mae: 0.6761\n",
      "Epoch 52/300\n",
      "\u001b[1m364/364\u001b[0m \u001b[32m━━━━━━━━━━━━━━━━━━━━\u001b[0m\u001b[37m\u001b[0m \u001b[1m4s\u001b[0m 10ms/step - loss: 0.5990 - mae: 0.3921 - val_loss: 1.7541 - val_mae: 0.6740\n",
      "Epoch 53/300\n",
      "\u001b[1m364/364\u001b[0m \u001b[32m━━━━━━━━━━━━━━━━━━━━\u001b[0m\u001b[37m\u001b[0m \u001b[1m4s\u001b[0m 10ms/step - loss: 0.5992 - mae: 0.3917 - val_loss: 1.7548 - val_mae: 0.6734\n",
      "Epoch 54/300\n",
      "\u001b[1m364/364\u001b[0m \u001b[32m━━━━━━━━━━━━━━━━━━━━\u001b[0m\u001b[37m\u001b[0m \u001b[1m4s\u001b[0m 10ms/step - loss: 0.5971 - mae: 0.3923 - val_loss: 1.7431 - val_mae: 0.6743\n",
      "Epoch 55/300\n",
      "\u001b[1m364/364\u001b[0m \u001b[32m━━━━━━━━━━━━━━━━━━━━\u001b[0m\u001b[37m\u001b[0m \u001b[1m4s\u001b[0m 10ms/step - loss: 0.6018 - mae: 0.3938 - val_loss: 1.7627 - val_mae: 0.6742\n",
      "Epoch 56/300\n",
      "\u001b[1m364/364\u001b[0m \u001b[32m━━━━━━━━━━━━━━━━━━━━\u001b[0m\u001b[37m\u001b[0m \u001b[1m4s\u001b[0m 10ms/step - loss: 0.5982 - mae: 0.3926 - val_loss: 1.7544 - val_mae: 0.6740\n",
      "Epoch 57/300\n",
      "\u001b[1m364/364\u001b[0m \u001b[32m━━━━━━━━━━━━━━━━━━━━\u001b[0m\u001b[37m\u001b[0m \u001b[1m4s\u001b[0m 10ms/step - loss: 0.5988 - mae: 0.3942 - val_loss: 1.7592 - val_mae: 0.6747\n",
      "Epoch 58/300\n",
      "\u001b[1m364/364\u001b[0m \u001b[32m━━━━━━━━━━━━━━━━━━━━\u001b[0m\u001b[37m\u001b[0m \u001b[1m4s\u001b[0m 10ms/step - loss: 0.6032 - mae: 0.3928 - val_loss: 1.7731 - val_mae: 0.6758\n"
     ]
    }
   ],
   "source": [
    "# 6. Train the Model\n",
    "early_stopping = EarlyStopping(monitor='val_loss', patience=50, restore_best_weights=True)\n",
    "\n",
    "history = model.fit(\n",
    "    X_train, y_train,\n",
    "    batch_size=32,\n",
    "    epochs=300,\n",
    "    validation_data=(X_test, y_test),\n",
    "    callbacks=[early_stopping],\n",
    "    verbose=1,\n",
    "    shuffle=False  # Important for time series data\n",
    ")"
   ]
  },
  {
   "cell_type": "code",
   "execution_count": 79,
   "id": "c538d9da",
   "metadata": {},
   "outputs": [
    {
     "name": "stdout",
     "output_type": "stream",
     "text": [
      "\n",
      "Training Loss: 0.5962, MAE: 0.3998\n",
      "Test Loss: 1.7294, MAE: 0.6818\n"
     ]
    }
   ],
   "source": [
    "# 7. Evaluate the Model\n",
    "train_loss = model.evaluate(X_train, y_train, verbose=0)\n",
    "test_loss = model.evaluate(X_test, y_test, verbose=0)\n",
    "\n",
    "print(f\"\\nTraining Loss: {train_loss[0]:.4f}, MAE: {train_loss[1]:.4f}\")\n",
    "print(f\"Test Loss: {test_loss[0]:.4f}, MAE: {test_loss[1]:.4f}\")"
   ]
  },
  {
   "cell_type": "raw",
   "id": "1eb2dc92",
   "metadata": {
    "vscode": {
     "languageId": "raw"
    }
   },
   "source": [
    "==============================================================\n",
    "MODELO ENTRENADO EN data2.csv, directo del script DS:\n",
    "\n",
    "Training Loss: 0.5761, MAE: 0.3728\n",
    "Test Loss: 1.6842, MAE: 0.6730\n",
    "==============================================================\n",
    "==============================================================\n",
    "MODELO ENTRENADO EN dic1985-oct2025.csv, red_simple:\n",
    "\n",
    "Training Loss: 0.5240, MAE: 0.3524\n",
    "Test Loss: 1.6494, MAE: 0.6564\n",
    "\n",
    "Performance Metrics:\n",
    "Mean Squared Error: 27.2741\n",
    "Mean Absolute Error: 2.6692\n",
    "Root Mean Squared Error: 5.2225\n",
    "==============================================================\n",
    "==============================================================\n",
    "MODELO ENTRENADO EN dic1985-oct2025.csv, multiples capas:\n",
    "\n",
    "Training Loss: 0.5828, MAE: 0.3905\n",
    "Test Loss: 1.7231, MAE: 0.6815\n",
    "\n",
    "Performance Metrics:\n",
    "Mean Squared Error: 28.4912\n",
    "Mean Absolute Error: 2.7710\n",
    "Root Mean Squared Error: 5.3377\n",
    "==============================================================\n",
    "==============================================================\n",
    "\n",
    "Training Loss: 0.5970, MAE: 0.3972\n",
    "Test Loss: 1.7384, MAE: 0.6825\n",
    "\n",
    "Performance Metrics:\n",
    "Mean Squared Error: 28.7456\n",
    "Mean Absolute Error: 2.7754\n",
    "Root Mean Squared Error: 5.3615\n",
    "==============================================================\n",
    "==============================================================\n",
    "\n",
    "==============================================================\n",
    "==============================================================\n"
   ]
  },
  {
   "cell_type": "code",
   "execution_count": 80,
   "id": "1705b011",
   "metadata": {},
   "outputs": [
    {
     "name": "stdout",
     "output_type": "stream",
     "text": [
      "\u001b[1m91/91\u001b[0m \u001b[32m━━━━━━━━━━━━━━━━━━━━\u001b[0m\u001b[37m\u001b[0m \u001b[1m0s\u001b[0m 3ms/step\n"
     ]
    }
   ],
   "source": [
    "# 8. Make Predictions\n",
    "y_pred_scaled = model.predict(X_test)\n",
    "y_pred = scaler_y.inverse_transform(y_pred_scaled)\n",
    "y_actual = scaler_y.inverse_transform(y_test)"
   ]
  },
  {
   "cell_type": "code",
   "execution_count": 85,
   "id": "617a4ebf",
   "metadata": {},
   "outputs": [
    {
     "name": "stdout",
     "output_type": "stream",
     "text": [
      "[[1.3109931]\n",
      " [1.3194977]\n",
      " [1.3570243]\n",
      " ...\n",
      " [5.275879 ]\n",
      " [5.219463 ]\n",
      " [5.176436 ]]\n",
      "[[5.4999995 ]\n",
      " [0.8       ]\n",
      " [0.        ]\n",
      " ...\n",
      " [0.2       ]\n",
      " [0.70000005]\n",
      " [0.        ]]\n"
     ]
    }
   ],
   "source": [
    "print(y_pred)\n",
    "print(y_actual)"
   ]
  },
  {
   "cell_type": "code",
   "execution_count": 81,
   "id": "a58b33a2",
   "metadata": {},
   "outputs": [
    {
     "name": "stdout",
     "output_type": "stream",
     "text": [
      "\n",
      "Performance Metrics:\n",
      "Mean Squared Error: 28.5954\n",
      "Mean Absolute Error: 2.7724\n",
      "Root Mean Squared Error: 5.3475\n"
     ]
    }
   ],
   "source": [
    "# Calculate metrics\n",
    "mse = mean_squared_error(y_actual, y_pred)\n",
    "mae = mean_absolute_error(y_actual, y_pred)\n",
    "rmse = np.sqrt(mse)\n",
    "\n",
    "print(f\"\\nPerformance Metrics:\")\n",
    "print(f\"Mean Squared Error: {mse:.4f}\")\n",
    "print(f\"Mean Absolute Error: {mae:.4f}\")\n",
    "print(f\"Root Mean Squared Error: {rmse:.4f}\")"
   ]
  },
  {
   "cell_type": "code",
   "execution_count": 77,
   "id": "1ef086b8",
   "metadata": {},
   "outputs": [
    {
     "data": {
      "image/png": "[encoded data removed]",
      "text/plain": [
       "<Figure size 1500x500 with 2 Axes>"
      ]
     },
     "metadata": {},
     "output_type": "display_data"
    }
   ],
   "source": [
    "# 9. Plot Results\n",
    "plt.figure(figsize=(15, 5))\n",
    "\n",
    "# Plot training history\n",
    "plt.subplot(1, 2, 1)\n",
    "plt.plot(history.history['loss'], label='Training Loss')\n",
    "plt.plot(history.history['val_loss'], label='Validation Loss')\n",
    "plt.title('Model Loss')\n",
    "plt.xlabel('Epoch')\n",
    "plt.ylabel('Loss')\n",
    "plt.legend()\n",
    "\n",
    "# Plot predictions vs actual\n",
    "plt.subplot(1, 2, 2)\n",
    "plt.plot(y_actual, label='Actual Precipitation', alpha=0.7)\n",
    "plt.plot(y_pred, label='Predicted Precipitation', alpha=0.7)\n",
    "plt.title('Actual vs Predicted Precipitation')\n",
    "plt.xlabel('Time Steps')\n",
    "plt.ylabel('Precipitation')\n",
    "plt.legend()\n",
    "\n",
    "plt.tight_layout()\n",
    "plt.show()\n",
    "\n"
   ]
  },
  {
   "cell_type": "raw",
   "id": "e07431d0",
   "metadata": {
    "vscode": {
     "languageId": "raw"
    }
   },
   "source": []
  },
  {
   "cell_type": "code",
   "execution_count": null,
   "id": "031b9cad",
   "metadata": {},
   "outputs": [
    {
     "name": "stdout",
     "output_type": "stream",
     "text": [
      "\n",
      "Feature names: ['temp_max', 'temp_min', 'presion_max', 'presion_min', 'rocio_max', 'rocio_min', 'viento_promedio', 'radiacion']\n",
      "\n",
      "Model saved as 'rainfall_prediction_lstm2.keras'\n"
     ]
    }
   ],
   "source": [
    "# 10. Feature Importance Analysis (Optional)\n",
    "# Get the last layer weights to understand feature importance\n",
    "print(\"\\nFeature names:\", features)\n",
    "\n",
    "# 11. Save the Model\n",
    "model.save('rainfall_prediction_lstm3.keras')\n",
    "print(\"\\nModel saved as 'rainfall_prediction_lstm3.keras'\")\n"
   ]
  },
  {
   "cell_type": "code",
   "execution_count": 7,
   "id": "8a524236",
   "metadata": {},
   "outputs": [],
   "source": [
    "# Function to make future predictions\n",
    "def predict_future(model, last_sequence, days=7):\n",
    "    \"\"\"\n",
    "    Predict future precipitation for specified number of days\n",
    "    \"\"\"\n",
    "    future_predictions = []\n",
    "    current_sequence = last_sequence.copy()\n",
    "    \n",
    "    for _ in range(days):\n",
    "        # Predict next day\n",
    "        next_pred = model.predict(current_sequence.reshape(1, TIME_STEPS, len(features)))\n",
    "        future_predictions.append(next_pred[0, 0])\n",
    "        \n",
    "        # Update sequence (remove first, add prediction)\n",
    "        current_sequence = np.roll(current_sequence, -1, axis=0)\n",
    "        # For the new row, we need to create a dummy row with the prediction\n",
    "        # In practice, you'd need actual feature values for future dates\n",
    "        new_row = np.zeros(len(features))\n",
    "        # This is simplified - you'd need a better approach for real future predictions\n",
    "        current_sequence[-1] = new_row\n",
    "    \n",
    "    future_predictions = scaler_y.inverse_transform(\n",
    "        np.array(future_predictions).reshape(-1, 1)\n",
    "    )\n",
    "    return future_predictions\n"
   ]
  },
  {
   "cell_type": "code",
   "execution_count": null,
   "id": "9e115994",
   "metadata": {},
   "outputs": [],
   "source": [
    "\n",
    "# Example of future prediction (using the last sequence from test set)\n",
    "if len(X_test) > 0:\n",
    "    last_sequence = X_test[-1]\n",
    "    future_pred = predict_future(model, last_sequence, days=7)\n",
    "    print(f\"\\nNext 7 days precipitation predictions:\")\n",
    "    for i, pred in enumerate(future_pred, 1):\n",
    "        print(f\"Day {i}: {pred[0]:.2f} mm\")"
   ]
  },
  {
   "cell_type": "code",
   "execution_count": null,
   "id": "a6bce6d3",
   "metadata": {},
   "outputs": [
    {
     "name": "stdout",
     "output_type": "stream",
     "text": [
      "Day 1: 0.09 mm\n",
      "Day 2: 0.14 mm\n",
      "Day 3: 0.16 mm\n",
      "Day 4: 0.08 mm\n",
      "Day 5: -0.16 mm\n",
      "Day 6: 0.19 mm\n",
      "Day 7: 0.61 mm\n",
      "Day 8: 0.30 mm\n",
      "Day 9: 0.56 mm\n",
      "Day 10: 0.78 mm\n",
      "Day 11: 1.23 mm\n",
      "Day 12: 0.62 mm\n",
      "Day 13: -0.42 mm\n",
      "Day 14: -0.10 mm\n",
      "Day 15: -0.00 mm\n",
      "Day 16: -0.07 mm\n",
      "Day 17: -0.51 mm\n",
      "Day 18: -0.08 mm\n",
      "Day 19: 0.09 mm\n",
      "Day 20: -0.08 mm\n",
      "Day 21: -0.00 mm\n",
      "Day 22: -0.77 mm\n",
      "Day 23: -0.32 mm\n",
      "Day 24: -0.34 mm\n",
      "Day 25: 0.27 mm\n",
      "Day 26: -1.70 mm\n",
      "Day 27: -0.59 mm\n",
      "Day 28: -0.29 mm\n",
      "Day 29: -0.23 mm\n",
      "Day 30: 0.32 mm\n",
      "\u001b[1m1/1\u001b[0m \u001b[32m━━━━━━━━━━━━━━━━━━━━\u001b[0m\u001b[37m\u001b[0m \u001b[1m0s\u001b[0m 27ms/step\n",
      "\u001b[1m1/1\u001b[0m \u001b[32m━━━━━━━━━━━━━━━━━━━━\u001b[0m\u001b[37m\u001b[0m \u001b[1m0s\u001b[0m 25ms/step\n",
      "\u001b[1m1/1\u001b[0m \u001b[32m━━━━━━━━━━━━━━━━━━━━\u001b[0m\u001b[37m\u001b[0m \u001b[1m0s\u001b[0m 25ms/step\n",
      "\u001b[1m1/1\u001b[0m \u001b[32m━━━━━━━━━━━━━━━━━━━━\u001b[0m\u001b[37m\u001b[0m \u001b[1m0s\u001b[0m 26ms/step\n",
      "\u001b[1m1/1\u001b[0m \u001b[32m━━━━━━━━━━━━━━━━━━━━\u001b[0m\u001b[37m\u001b[0m \u001b[1m0s\u001b[0m 25ms/step\n",
      "\u001b[1m1/1\u001b[0m \u001b[32m━━━━━━━━━━━━━━━━━━━━\u001b[0m\u001b[37m\u001b[0m \u001b[1m0s\u001b[0m 25ms/step\n",
      "\u001b[1m1/1\u001b[0m \u001b[32m━━━━━━━━━━━━━━━━━━━━\u001b[0m\u001b[37m\u001b[0m \u001b[1m0s\u001b[0m 25ms/step\n",
      "\u001b[1m1/1\u001b[0m \u001b[32m━━━━━━━━━━━━━━━━━━━━\u001b[0m\u001b[37m\u001b[0m \u001b[1m0s\u001b[0m 25ms/step\n",
      "\u001b[1m1/1\u001b[0m \u001b[32m━━━━━━━━━━━━━━━━━━━━\u001b[0m\u001b[37m\u001b[0m \u001b[1m0s\u001b[0m 25ms/step\n",
      "\u001b[1m1/1\u001b[0m \u001b[32m━━━━━━━━━━━━━━━━━━━━\u001b[0m\u001b[37m\u001b[0m \u001b[1m0s\u001b[0m 25ms/step\n",
      "\u001b[1m1/1\u001b[0m \u001b[32m━━━━━━━━━━━━━━━━━━━━\u001b[0m\u001b[37m\u001b[0m \u001b[1m0s\u001b[0m 25ms/step\n",
      "\u001b[1m1/1\u001b[0m \u001b[32m━━━━━━━━━━━━━━━━━━━━\u001b[0m\u001b[37m\u001b[0m \u001b[1m0s\u001b[0m 25ms/step\n",
      "\u001b[1m1/1\u001b[0m \u001b[32m━━━━━━━━━━━━━━━━━━━━\u001b[0m\u001b[37m\u001b[0m \u001b[1m0s\u001b[0m 25ms/step\n",
      "\u001b[1m1/1\u001b[0m \u001b[32m━━━━━━━━━━━━━━━━━━━━\u001b[0m\u001b[37m\u001b[0m \u001b[1m0s\u001b[0m 25ms/step\n",
      "\u001b[1m1/1\u001b[0m \u001b[32m━━━━━━━━━━━━━━━━━━━━\u001b[0m\u001b[37m\u001b[0m \u001b[1m0s\u001b[0m 29ms/step\n",
      "\u001b[1m1/1\u001b[0m \u001b[32m━━━━━━━━━━━━━━━━━━━━\u001b[0m\u001b[37m\u001b[0m \u001b[1m0s\u001b[0m 25ms/step\n",
      "\u001b[1m1/1\u001b[0m \u001b[32m━━━━━━━━━━━━━━━━━━━━\u001b[0m\u001b[37m\u001b[0m \u001b[1m0s\u001b[0m 25ms/step\n",
      "\u001b[1m1/1\u001b[0m \u001b[32m━━━━━━━━━━━━━━━━━━━━\u001b[0m\u001b[37m\u001b[0m \u001b[1m0s\u001b[0m 27ms/step\n",
      "\u001b[1m1/1\u001b[0m \u001b[32m━━━━━━━━━━━━━━━━━━━━\u001b[0m\u001b[37m\u001b[0m \u001b[1m0s\u001b[0m 26ms/step\n",
      "\u001b[1m1/1\u001b[0m \u001b[32m━━━━━━━━━━━━━━━━━━━━\u001b[0m\u001b[37m\u001b[0m \u001b[1m0s\u001b[0m 26ms/step\n",
      "\u001b[1m1/1\u001b[0m \u001b[32m━━━━━━━━━━━━━━━━━━━━\u001b[0m\u001b[37m\u001b[0m \u001b[1m0s\u001b[0m 25ms/step\n",
      "\u001b[1m1/1\u001b[0m \u001b[32m━━━━━━━━━━━━━━━━━━━━\u001b[0m\u001b[37m\u001b[0m \u001b[1m0s\u001b[0m 26ms/step\n",
      "\u001b[1m1/1\u001b[0m \u001b[32m━━━━━━━━━━━━━━━━━━━━\u001b[0m\u001b[37m\u001b[0m \u001b[1m0s\u001b[0m 25ms/step\n",
      "\u001b[1m1/1\u001b[0m \u001b[32m━━━━━━━━━━━━━━━━━━━━\u001b[0m\u001b[37m\u001b[0m \u001b[1m0s\u001b[0m 25ms/step\n",
      "\u001b[1m1/1\u001b[0m \u001b[32m━━━━━━━━━━━━━━━━━━━━\u001b[0m\u001b[37m\u001b[0m \u001b[1m0s\u001b[0m 25ms/step\n",
      "\u001b[1m1/1\u001b[0m \u001b[32m━━━━━━━━━━━━━━━━━━━━\u001b[0m\u001b[37m\u001b[0m \u001b[1m0s\u001b[0m 25ms/step\n",
      "\u001b[1m1/1\u001b[0m \u001b[32m━━━━━━━━━━━━━━━━━━━━\u001b[0m\u001b[37m\u001b[0m \u001b[1m0s\u001b[0m 26ms/step\n",
      "\u001b[1m1/1\u001b[0m \u001b[32m━━━━━━━━━━━━━━━━━━━━\u001b[0m\u001b[37m\u001b[0m \u001b[1m0s\u001b[0m 26ms/step\n",
      "\u001b[1m1/1\u001b[0m \u001b[32m━━━━━━━━━━━━━━━━━━━━\u001b[0m\u001b[37m\u001b[0m \u001b[1m0s\u001b[0m 25ms/step\n",
      "\u001b[1m1/1\u001b[0m \u001b[32m━━━━━━━━━━━━━━━━━━━━\u001b[0m\u001b[37m\u001b[0m \u001b[1m0s\u001b[0m 27ms/step\n",
      "\n",
      "Next 7 days precipitation predictions:\n",
      "Day 1: 5.18 mm, Real: 0.09 mm\n",
      "Day 2: 5.03 mm, Real: 0.14 mm\n",
      "Day 3: 4.83 mm, Real: 0.16 mm\n",
      "Day 4: 4.56 mm, Real: 0.08 mm\n",
      "Day 5: 4.26 mm, Real: -0.16 mm\n",
      "Day 6: 3.96 mm, Real: 0.19 mm\n",
      "Day 7: 3.61 mm, Real: 0.61 mm\n",
      "Day 8: 3.25 mm, Real: 0.30 mm\n",
      "Day 9: 2.91 mm, Real: 0.56 mm\n",
      "Day 10: 2.56 mm, Real: 0.78 mm\n",
      "Day 11: 2.22 mm, Real: 1.23 mm\n",
      "Day 12: 1.94 mm, Real: 0.62 mm\n",
      "Day 13: 1.74 mm, Real: -0.42 mm\n",
      "Day 14: 1.57 mm, Real: -0.10 mm\n",
      "Day 15: 1.43 mm, Real: -0.00 mm\n",
      "Day 16: 1.32 mm, Real: -0.07 mm\n",
      "Day 17: 1.23 mm, Real: -0.51 mm\n",
      "Day 18: 1.14 mm, Real: -0.08 mm\n",
      "Day 19: 1.10 mm, Real: 0.09 mm\n",
      "Day 20: 1.05 mm, Real: -0.08 mm\n",
      "Day 21: 1.03 mm, Real: -0.00 mm\n",
      "Day 22: 1.02 mm, Real: -0.77 mm\n",
      "Day 23: 1.01 mm, Real: -0.32 mm\n",
      "Day 24: 1.01 mm, Real: -0.34 mm\n",
      "Day 25: 0.99 mm, Real: 0.27 mm\n",
      "Day 26: 1.00 mm, Real: -1.70 mm\n",
      "Day 27: 0.98 mm, Real: -0.59 mm\n",
      "Day 28: 0.97 mm, Real: -0.29 mm\n",
      "Day 29: 0.96 mm, Real: -0.23 mm\n",
      "Day 30: 0.95 mm, Real: 0.32 mm\n"
     ]
    }
   ],
   "source": [
    "not_last_sequence = y_test[-2]\n",
    "for i, pred in enumerate(not_last_sequence, 1):\n",
    "    print(f\"Day {i}: {pred[0]:.2f} mm\")\n",
    "\n",
    "future_pred_2 = predict_future(model, last_sequence, days=30)\n",
    "print(f\"\\nNext 7 days precipitation predictions:\")\n",
    "for i, pred in enumerate(future_pred_2, 1):\n",
    "        print(f\"Day {i}: {pred[0]:.2f} mm, Real: {not_last_sequence[i-1][0]:.2f} mm\")"
   ]
  },
  {
   "cell_type": "code",
   "execution_count": 6,
   "id": "30247294",
   "metadata": {},
   "outputs": [
    {
     "name": "stderr",
     "output_type": "stream",
     "text": [
      "WARNING: All log messages before absl::InitializeLog() is called are written to STDERR\n",
      "I0000 00:00:1760598044.830132   49354 gpu_device.cc:2020] Created device /job:localhost/replica:0/task:0/device:GPU:0 with 7346 MB memory:  -> device: 0, name: NVIDIA GeForce RTX 3080, pci bus id: 0000:01:00.0, compute capability: 8.6\n"
     ]
    }
   ],
   "source": [
    "modelo = load_model(\"rainfall_prediction_lstm2.keras\")"
   ]
  },
  {
   "cell_type": "code",
   "execution_count": 27,
   "id": "9eea0579",
   "metadata": {},
   "outputs": [
    {
     "data": {
      "text/plain": [
       "(30, 8)"
      ]
     },
     "execution_count": 27,
     "metadata": {},
     "output_type": "execute_result"
    }
   ],
   "source": [
    "y_test.shape\n",
    "\n",
    "y_test_sin = scaler_y.inverse_transform(y_test)\n",
    "X_test[-1].shape"
   ]
  },
  {
   "cell_type": "code",
   "execution_count": 46,
   "id": "e4c51493",
   "metadata": {},
   "outputs": [
    {
     "name": "stdout",
     "output_type": "stream",
     "text": [
      "[[2.6000001], [18.800001], [30.399998], [3.8999999], [1.5], [13.900001], [3.7], [2.5], [2.7], [17.4], [4.7], [12.5], [10.900001], [19.3], [15.900000000000002], [8.400001], [0.9000001], [12.5], [1.8000001], [1.9000001], [4.2], [12.0], [4.9], [31.0], [7.5], [21.900002], [9.6], [0.19999999999999996], [0.7000000499999999], [0.0]]\n",
      "30\n",
      "Day 1: 2.60 mm\n",
      "Day 2: 18.80 mm\n",
      "Day 3: 30.40 mm\n",
      "Day 4: 3.90 mm\n",
      "Day 5: 1.50 mm\n",
      "Day 6: 13.90 mm\n",
      "Day 7: 3.70 mm\n",
      "Day 8: 2.50 mm\n",
      "Day 9: 2.70 mm\n",
      "Day 10: 17.40 mm\n",
      "Day 11: 4.70 mm\n",
      "Day 12: 12.50 mm\n",
      "Day 13: 10.90 mm\n",
      "Day 14: 19.30 mm\n",
      "Day 15: 15.90 mm\n",
      "Day 16: 8.40 mm\n",
      "Day 17: 0.90 mm\n",
      "Day 18: 12.50 mm\n",
      "Day 19: 1.80 mm\n",
      "Day 20: 1.90 mm\n",
      "Day 21: 4.20 mm\n",
      "Day 22: 12.00 mm\n",
      "Day 23: 4.90 mm\n",
      "Day 24: 31.00 mm\n",
      "Day 25: 7.50 mm\n",
      "Day 26: 21.90 mm\n",
      "Day 27: 9.60 mm\n",
      "Day 28: 0.20 mm\n",
      "Day 29: 0.70 mm\n",
      "Day 30: 0.00 mm\n",
      "\u001b[1m1/1\u001b[0m \u001b[32m━━━━━━━━━━━━━━━━━━━━\u001b[0m\u001b[37m\u001b[0m \u001b[1m0s\u001b[0m 28ms/step\n",
      "\u001b[1m1/1\u001b[0m \u001b[32m━━━━━━━━━━━━━━━━━━━━\u001b[0m\u001b[37m\u001b[0m \u001b[1m0s\u001b[0m 29ms/step\n",
      "\u001b[1m1/1\u001b[0m \u001b[32m━━━━━━━━━━━━━━━━━━━━\u001b[0m\u001b[37m\u001b[0m \u001b[1m0s\u001b[0m 27ms/step\n",
      "\u001b[1m1/1\u001b[0m \u001b[32m━━━━━━━━━━━━━━━━━━━━\u001b[0m\u001b[37m\u001b[0m \u001b[1m0s\u001b[0m 30ms/step\n",
      "\u001b[1m1/1\u001b[0m \u001b[32m━━━━━━━━━━━━━━━━━━━━\u001b[0m\u001b[37m\u001b[0m \u001b[1m0s\u001b[0m 27ms/step\n",
      "\u001b[1m1/1\u001b[0m \u001b[32m━━━━━━━━━━━━━━━━━━━━\u001b[0m\u001b[37m\u001b[0m \u001b[1m0s\u001b[0m 27ms/step\n",
      "\u001b[1m1/1\u001b[0m \u001b[32m━━━━━━━━━━━━━━━━━━━━\u001b[0m\u001b[37m\u001b[0m \u001b[1m0s\u001b[0m 27ms/step\n",
      "\u001b[1m1/1\u001b[0m \u001b[32m━━━━━━━━━━━━━━━━━━━━\u001b[0m\u001b[37m\u001b[0m \u001b[1m0s\u001b[0m 27ms/step\n",
      "\u001b[1m1/1\u001b[0m \u001b[32m━━━━━━━━━━━━━━━━━━━━\u001b[0m\u001b[37m\u001b[0m \u001b[1m0s\u001b[0m 28ms/step\n",
      "\u001b[1m1/1\u001b[0m \u001b[32m━━━━━━━━━━━━━━━━━━━━\u001b[0m\u001b[37m\u001b[0m \u001b[1m0s\u001b[0m 27ms/step\n",
      "\u001b[1m1/1\u001b[0m \u001b[32m━━━━━━━━━━━━━━━━━━━━\u001b[0m\u001b[37m\u001b[0m \u001b[1m0s\u001b[0m 30ms/step\n",
      "\u001b[1m1/1\u001b[0m \u001b[32m━━━━━━━━━━━━━━━━━━━━\u001b[0m\u001b[37m\u001b[0m \u001b[1m0s\u001b[0m 28ms/step\n",
      "\u001b[1m1/1\u001b[0m \u001b[32m━━━━━━━━━━━━━━━━━━━━\u001b[0m\u001b[37m\u001b[0m \u001b[1m0s\u001b[0m 26ms/step\n",
      "\u001b[1m1/1\u001b[0m \u001b[32m━━━━━━━━━━━━━━━━━━━━\u001b[0m\u001b[37m\u001b[0m \u001b[1m0s\u001b[0m 28ms/step\n",
      "\u001b[1m1/1\u001b[0m \u001b[32m━━━━━━━━━━━━━━━━━━━━\u001b[0m\u001b[37m\u001b[0m \u001b[1m0s\u001b[0m 27ms/step\n",
      "\u001b[1m1/1\u001b[0m \u001b[32m━━━━━━━━━━━━━━━━━━━━\u001b[0m\u001b[37m\u001b[0m \u001b[1m0s\u001b[0m 27ms/step\n",
      "\u001b[1m1/1\u001b[0m \u001b[32m━━━━━━━━━━━━━━━━━━━━\u001b[0m\u001b[37m\u001b[0m \u001b[1m0s\u001b[0m 27ms/step\n",
      "\u001b[1m1/1\u001b[0m \u001b[32m━━━━━━━━━━━━━━━━━━━━\u001b[0m\u001b[37m\u001b[0m \u001b[1m0s\u001b[0m 27ms/step\n",
      "\u001b[1m1/1\u001b[0m \u001b[32m━━━━━━━━━━━━━━━━━━━━\u001b[0m\u001b[37m\u001b[0m \u001b[1m0s\u001b[0m 26ms/step\n",
      "\u001b[1m1/1\u001b[0m \u001b[32m━━━━━━━━━━━━━━━━━━━━\u001b[0m\u001b[37m\u001b[0m \u001b[1m0s\u001b[0m 28ms/step\n",
      "\u001b[1m1/1\u001b[0m \u001b[32m━━━━━━━━━━━━━━━━━━━━\u001b[0m\u001b[37m\u001b[0m \u001b[1m0s\u001b[0m 27ms/step\n",
      "\u001b[1m1/1\u001b[0m \u001b[32m━━━━━━━━━━━━━━━━━━━━\u001b[0m\u001b[37m\u001b[0m \u001b[1m0s\u001b[0m 29ms/step\n",
      "\u001b[1m1/1\u001b[0m \u001b[32m━━━━━━━━━━━━━━━━━━━━\u001b[0m\u001b[37m\u001b[0m \u001b[1m0s\u001b[0m 28ms/step\n",
      "\u001b[1m1/1\u001b[0m \u001b[32m━━━━━━━━━━━━━━━━━━━━\u001b[0m\u001b[37m\u001b[0m \u001b[1m0s\u001b[0m 28ms/step\n",
      "\u001b[1m1/1\u001b[0m \u001b[32m━━━━━━━━━━━━━━━━━━━━\u001b[0m\u001b[37m\u001b[0m \u001b[1m0s\u001b[0m 26ms/step\n",
      "\u001b[1m1/1\u001b[0m \u001b[32m━━━━━━━━━━━━━━━━━━━━\u001b[0m\u001b[37m\u001b[0m \u001b[1m0s\u001b[0m 30ms/step\n",
      "\u001b[1m1/1\u001b[0m \u001b[32m━━━━━━━━━━━━━━━━━━━━\u001b[0m\u001b[37m\u001b[0m \u001b[1m0s\u001b[0m 29ms/step\n",
      "\u001b[1m1/1\u001b[0m \u001b[32m━━━━━━━━━━━━━━━━━━━━\u001b[0m\u001b[37m\u001b[0m \u001b[1m0s\u001b[0m 27ms/step\n",
      "\u001b[1m1/1\u001b[0m \u001b[32m━━━━━━━━━━━━━━━━━━━━\u001b[0m\u001b[37m\u001b[0m \u001b[1m0s\u001b[0m 31ms/step\n",
      "\u001b[1m1/1\u001b[0m \u001b[32m━━━━━━━━━━━━━━━━━━━━\u001b[0m\u001b[37m\u001b[0m \u001b[1m0s\u001b[0m 28ms/step\n",
      "\n",
      "Next 7 days precipitation predictions:\n",
      "Day 1: 1.82 mm, Real: 2.60 mm\n",
      "Day 2: 1.81 mm, Real: 18.80 mm\n",
      "Day 3: 1.81 mm, Real: 30.40 mm\n",
      "Day 4: 1.81 mm, Real: 3.90 mm\n",
      "Day 5: 1.81 mm, Real: 1.50 mm\n",
      "Day 6: 1.81 mm, Real: 13.90 mm\n",
      "Day 7: 1.81 mm, Real: 3.70 mm\n",
      "Day 8: 1.80 mm, Real: 2.50 mm\n",
      "Day 9: 1.79 mm, Real: 2.70 mm\n",
      "Day 10: 1.79 mm, Real: 17.40 mm\n",
      "Day 11: 1.79 mm, Real: 4.70 mm\n",
      "Day 12: 1.79 mm, Real: 12.50 mm\n",
      "Day 13: 1.79 mm, Real: 10.90 mm\n",
      "Day 14: 1.78 mm, Real: 19.30 mm\n",
      "Day 15: 1.78 mm, Real: 15.90 mm\n",
      "Day 16: 1.77 mm, Real: 8.40 mm\n",
      "Day 17: 1.77 mm, Real: 0.90 mm\n",
      "Day 18: 1.76 mm, Real: 12.50 mm\n",
      "Day 19: 1.76 mm, Real: 1.80 mm\n",
      "Day 20: 1.75 mm, Real: 1.90 mm\n",
      "Day 21: 1.74 mm, Real: 4.20 mm\n",
      "Day 22: 1.74 mm, Real: 12.00 mm\n",
      "Day 23: 1.74 mm, Real: 4.90 mm\n",
      "Day 24: 1.73 mm, Real: 31.00 mm\n",
      "Day 25: 1.73 mm, Real: 7.50 mm\n",
      "Day 26: 1.72 mm, Real: 21.90 mm\n",
      "Day 27: 1.72 mm, Real: 9.60 mm\n",
      "Day 28: 1.71 mm, Real: 0.20 mm\n",
      "Day 29: 1.71 mm, Real: 0.70 mm\n",
      "Day 30: 1.71 mm, Real: 0.00 mm\n"
     ]
    }
   ],
   "source": [
    "not_last_sequence = scaler_y.inverse_transform(y_test).tolist()\n",
    "not_last_sequence = not_last_sequence[-30:]\n",
    "print(not_last_sequence)\n",
    "print(len(not_last_sequence))\n",
    "for i, pred in enumerate(not_last_sequence, 1):\n",
    "    print(f\"Day {i}: {pred[0]:.2f} mm\")\n",
    "\n",
    "last_sequence = X_test[-1]\n",
    "\n",
    "future_pred_2 = predict_future(modelo, last_sequence, days=30)\n",
    "print(f\"\\nNext 7 days precipitation predictions:\")\n",
    "for i, pred in enumerate(future_pred_2, 1):\n",
    "        print(f\"Day {i}: {pred[0]:.2f} mm, Real: {not_last_sequence[i-1][0]:.2f} mm\")"
   ]
  },
  {
   "cell_type": "code",
   "execution_count": null,
   "id": "68653bff",
   "metadata": {},
   "outputs": [],
   "source": []
  }
 ],
 "metadata": {
  "kernelspec": {
   "display_name": "Python 3",
   "language": "python",
   "name": "python3"
  },
  "language_info": {
   "codemirror_mode": {
    "name": "ipython",
    "version": 3
   },
   "file_extension": ".py",
   "mimetype": "text/x-python",
   "name": "python",
   "nbconvert_exporter": "python",
   "pygments_lexer": "ipython3",
   "version": "3.10.12"
  }
 },
 "nbformat": 4,
 "nbformat_minor": 5
}
